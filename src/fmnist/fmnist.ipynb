{
 "cells": [
  {
   "cell_type": "code",
   "execution_count": 28,
   "id": "38bf0628",
   "metadata": {},
   "outputs": [],
   "source": [
    "import torch"
   ]
  },
  {
   "cell_type": "code",
   "execution_count": 2,
   "id": "d7038db3",
   "metadata": {},
   "outputs": [
    {
     "data": {
      "text/plain": [
       "'NVIDIA GeForce RTX 2060'"
      ]
     },
     "execution_count": 2,
     "metadata": {},
     "output_type": "execute_result"
    }
   ],
   "source": [
    "torch.cuda.get_device_name(0)"
   ]
  },
  {
   "cell_type": "code",
   "execution_count": 3,
   "id": "treated-structure",
   "metadata": {},
   "outputs": [],
   "source": [
    "from copy import deepcopy\n",
    "from time import time\n",
    "\n",
    "import torch\n",
    "import torch.nn.functional as F\n",
    "\n",
    "from torch import nn\n",
    "from tensorflow.keras.datasets import fashion_mnist\n",
    "\n",
    "from torch.utils.data import DataLoader, TensorDataset\n",
    "\n",
    "import numpy as np\n",
    "import pandas as pd"
   ]
  },
  {
   "cell_type": "code",
   "execution_count": 4,
   "id": "resistant-frost",
   "metadata": {},
   "outputs": [],
   "source": [
    "class FMnistNet(nn.Module):\n",
    "    def __init__(self):\n",
    "        super().__init__()\n",
    "        self.conv1 = nn.Conv2d(1, 8, 5)\n",
    "        self.pool1 = nn.MaxPool2d(2)\n",
    "        self.conv2 = nn.Conv2d(8, 16, 5)\n",
    "        self.flatten = nn.Flatten()\n",
    "        self.fc1 = nn.Linear(1024, 256)\n",
    "        self.fc2 = nn.Linear(256, 128)\n",
    "        self.fc3 = nn.Linear(128, 10)\n",
    "        \n",
    "    def forward(self, x):\n",
    "        x = F.relu(self.conv1(x))\n",
    "        x = self.pool1(x)\n",
    "        x = F.relu(self.conv2(x))\n",
    "        x = self.flatten(x)\n",
    "        x = F.relu(self.fc1(x))\n",
    "        x = F.relu(self.fc2(x))\n",
    "        x = F.softmax(self.fc3(x), dim=1)\n",
    "        return x"
   ]
  },
  {
   "cell_type": "code",
   "execution_count": 5,
   "id": "earned-firmware",
   "metadata": {},
   "outputs": [],
   "source": [
    "def acc(net_output, labels):\n",
    "    predicted = net_output.argmax(dim=1)\n",
    "    correct = (predicted == labels).sum()\n",
    "    examples = len(labels)\n",
    "    return (correct / examples).item()"
   ]
  },
  {
   "cell_type": "code",
   "execution_count": 6,
   "id": "alleged-tender",
   "metadata": {},
   "outputs": [
    {
     "name": "stdout",
     "output_type": "stream",
     "text": [
      "Downloading data from https://storage.googleapis.com/tensorflow/tf-keras-datasets/train-labels-idx1-ubyte.gz\n",
      "32768/29515 [=================================] - 0s 1us/step\n",
      "Downloading data from https://storage.googleapis.com/tensorflow/tf-keras-datasets/train-images-idx3-ubyte.gz\n",
      "26427392/26421880 [==============================] - 1s 0us/step\n",
      "Downloading data from https://storage.googleapis.com/tensorflow/tf-keras-datasets/t10k-labels-idx1-ubyte.gz\n",
      "8192/5148 [===============================================] - 0s 1us/step\n",
      "Downloading data from https://storage.googleapis.com/tensorflow/tf-keras-datasets/t10k-images-idx3-ubyte.gz\n",
      "4423680/4422102 [==============================] - 0s 0us/step\n"
     ]
    }
   ],
   "source": [
    "(x_train, y_train), (x_test, y_test) = fashion_mnist.load_data()\n",
    "\n",
    "x_train_tensor = torch.tensor(deepcopy(x_train), dtype=torch.float32)\n",
    "x_train_tensor = x_train_tensor.unsqueeze(1)\n",
    "x_train_tensor /= 255.\n",
    "\n",
    "x_test_tensor = torch.tensor(deepcopy(x_test), dtype=torch.float32)\n",
    "x_test_tensor = x_test_tensor.unsqueeze(1)\n",
    "x_test_tensor /= 255.\n",
    "\n",
    "y_train_tensor = torch.tensor(deepcopy(y_train), dtype=torch.long)\n",
    "y_test_tensor = torch.tensor(deepcopy(y_test), dtype=torch.long)\n",
    "\n",
    "train_set = DataLoader(TensorDataset(x_train_tensor, y_train_tensor), shuffle=False, batch_size=32)\n",
    "test_set = DataLoader(TensorDataset(x_test_tensor, y_test_tensor), batch_size=len(x_test_tensor))"
   ]
  },
  {
   "cell_type": "code",
   "execution_count": null,
   "id": "052a50f5",
   "metadata": {},
   "outputs": [],
   "source": [
    "net = FMnistNet().to('cuda')"
   ]
  },
  {
   "cell_type": "code",
   "execution_count": 24,
   "id": "breathing-hindu",
   "metadata": {},
   "outputs": [
    {
     "name": "stdout",
     "output_type": "stream",
     "text": [
      "EPOCH 1/100 -- train: (loss: 1.5509, acc: 91.19%), test: (loss: 1.5870, acc: 87.41%), time: 6.45s\n",
      "EPOCH 2/100 -- train: (loss: 1.5505, acc: 91.21%), test: (loss: 1.5808, acc: 88.02%), time: 6.47s\n",
      "EPOCH 3/100 -- train: (loss: 1.5502, acc: 91.21%), test: (loss: 1.5826, acc: 87.86%), time: 6.82s\n",
      "EPOCH 4/100 -- train: (loss: 1.5495, acc: 91.33%), test: (loss: 1.5838, acc: 87.81%), time: 6.51s\n",
      "EPOCH 5/100 -- train: (loss: 1.5486, acc: 91.42%), test: (loss: 1.5822, acc: 87.93%), time: 6.58s\n",
      "EPOCH 6/100 -- train: (loss: 1.5482, acc: 91.45%), test: (loss: 1.5852, acc: 87.52%), time: 6.39s\n",
      "EPOCH 7/100 -- train: (loss: 1.5487, acc: 91.40%), test: (loss: 1.5789, acc: 88.28%), time: 6.32s\n",
      "EPOCH 8/100 -- train: (loss: 1.5478, acc: 91.49%), test: (loss: 1.5781, acc: 88.36%), time: 6.34s\n",
      "EPOCH 9/100 -- train: (loss: 1.5466, acc: 91.61%), test: (loss: 1.5872, acc: 87.39%), time: 6.42s\n",
      "EPOCH 10/100 -- train: (loss: 1.5474, acc: 91.51%), test: (loss: 1.5807, acc: 87.95%), time: 6.42s\n",
      "EPOCH 11/100 -- train: (loss: 1.5461, acc: 91.68%), test: (loss: 1.5766, acc: 88.51%), time: 6.49s\n",
      "EPOCH 12/100 -- train: (loss: 1.5455, acc: 91.71%), test: (loss: 1.5833, acc: 87.93%), time: 6.60s\n",
      "EPOCH 13/100 -- train: (loss: 1.5455, acc: 91.72%), test: (loss: 1.5778, acc: 88.28%), time: 6.60s\n",
      "EPOCH 14/100 -- train: (loss: 1.5451, acc: 91.72%), test: (loss: 1.5786, acc: 88.28%), time: 6.46s\n",
      "EPOCH 15/100 -- train: (loss: 1.5443, acc: 91.86%), test: (loss: 1.5768, acc: 88.38%), time: 6.69s\n",
      "EPOCH 16/100 -- train: (loss: 1.5437, acc: 91.92%), test: (loss: 1.5754, acc: 88.60%), time: 6.45s\n",
      "EPOCH 17/100 -- train: (loss: 1.5433, acc: 91.95%), test: (loss: 1.5763, acc: 88.39%), time: 6.47s\n",
      "EPOCH 18/100 -- train: (loss: 1.5427, acc: 92.01%), test: (loss: 1.5778, acc: 88.27%), time: 6.54s\n",
      "EPOCH 19/100 -- train: (loss: 1.5428, acc: 92.01%), test: (loss: 1.5768, acc: 88.42%), time: 6.39s\n",
      "EPOCH 20/100 -- train: (loss: 1.5423, acc: 92.03%), test: (loss: 1.5762, acc: 88.48%), time: 6.45s\n",
      "EPOCH 21/100 -- train: (loss: 1.5413, acc: 92.15%), test: (loss: 1.5763, acc: 88.56%), time: 6.63s\n",
      "EPOCH 22/100 -- train: (loss: 1.5416, acc: 92.11%), test: (loss: 1.5754, acc: 88.52%), time: 6.33s\n",
      "EPOCH 23/100 -- train: (loss: 1.5406, acc: 92.23%), test: (loss: 1.5755, acc: 88.63%), time: 6.44s\n",
      "EPOCH 24/100 -- train: (loss: 1.5406, acc: 92.20%), test: (loss: 1.5743, acc: 88.75%), time: 6.37s\n",
      "EPOCH 25/100 -- train: (loss: 1.5404, acc: 92.22%), test: (loss: 1.5744, acc: 88.70%), time: 6.37s\n",
      "EPOCH 26/100 -- train: (loss: 1.5397, acc: 92.28%), test: (loss: 1.5756, acc: 88.55%), time: 6.46s\n",
      "EPOCH 27/100 -- train: (loss: 1.5397, acc: 92.28%), test: (loss: 1.5777, acc: 88.37%), time: 6.37s\n",
      "EPOCH 28/100 -- train: (loss: 1.5394, acc: 92.32%), test: (loss: 1.5767, acc: 88.43%), time: 6.58s\n",
      "EPOCH 29/100 -- train: (loss: 1.5386, acc: 92.43%), test: (loss: 1.5739, acc: 88.71%), time: 6.66s\n",
      "EPOCH 30/100 -- train: (loss: 1.5377, acc: 92.49%), test: (loss: 1.5782, acc: 88.37%), time: 6.49s\n",
      "EPOCH 31/100 -- train: (loss: 1.5379, acc: 92.47%), test: (loss: 1.5747, acc: 88.68%), time: 6.54s\n",
      "EPOCH 32/100 -- train: (loss: 1.5378, acc: 92.49%), test: (loss: 1.5749, acc: 88.56%), time: 6.58s\n",
      "EPOCH 33/100 -- train: (loss: 1.5382, acc: 92.42%), test: (loss: 1.5752, acc: 88.59%), time: 6.62s\n",
      "EPOCH 34/100 -- train: (loss: 1.5371, acc: 92.56%), test: (loss: 1.5731, acc: 88.85%), time: 6.59s\n",
      "EPOCH 35/100 -- train: (loss: 1.5371, acc: 92.55%), test: (loss: 1.5746, acc: 88.64%), time: 6.56s\n",
      "EPOCH 36/100 -- train: (loss: 1.5367, acc: 92.61%), test: (loss: 1.5755, acc: 88.55%), time: 6.36s\n",
      "EPOCH 37/100 -- train: (loss: 1.5355, acc: 92.71%), test: (loss: 1.5751, acc: 88.58%), time: 6.38s\n",
      "EPOCH 38/100 -- train: (loss: 1.5355, acc: 92.70%), test: (loss: 1.5745, acc: 88.70%), time: 6.51s\n",
      "EPOCH 39/100 -- train: (loss: 1.5355, acc: 92.68%), test: (loss: 1.5775, acc: 88.33%), time: 6.41s\n",
      "EPOCH 40/100 -- train: (loss: 1.5349, acc: 92.75%), test: (loss: 1.5766, acc: 88.44%), time: 6.64s\n",
      "EPOCH 41/100 -- train: (loss: 1.5341, acc: 92.87%), test: (loss: 1.5766, acc: 88.39%), time: 6.43s\n",
      "EPOCH 42/100 -- train: (loss: 1.5338, acc: 92.86%), test: (loss: 1.5782, acc: 88.28%), time: 6.33s\n",
      "EPOCH 43/100 -- train: (loss: 1.5342, acc: 92.84%), test: (loss: 1.5756, acc: 88.53%), time: 6.62s\n",
      "EPOCH 44/100 -- train: (loss: 1.5340, acc: 92.84%), test: (loss: 1.5725, acc: 88.81%), time: 6.47s\n",
      "EPOCH 45/100 -- train: (loss: 1.5340, acc: 92.82%), test: (loss: 1.5776, acc: 88.29%), time: 6.44s\n",
      "EPOCH 46/100 -- train: (loss: 1.5330, acc: 92.96%), test: (loss: 1.5751, acc: 88.66%), time: 6.45s\n",
      "EPOCH 47/100 -- train: (loss: 1.5331, acc: 92.93%), test: (loss: 1.5723, acc: 88.88%), time: 6.59s\n",
      "EPOCH 48/100 -- train: (loss: 1.5324, acc: 92.99%), test: (loss: 1.5739, acc: 88.70%), time: 6.77s\n",
      "EPOCH 49/100 -- train: (loss: 1.5319, acc: 93.05%), test: (loss: 1.5735, acc: 88.78%), time: 6.76s\n",
      "EPOCH 50/100 -- train: (loss: 1.5319, acc: 93.02%), test: (loss: 1.5736, acc: 88.68%), time: 6.50s\n",
      "EPOCH 51/100 -- train: (loss: 1.5312, acc: 93.14%), test: (loss: 1.5779, acc: 88.30%), time: 6.42s\n",
      "EPOCH 52/100 -- train: (loss: 1.5312, acc: 93.14%), test: (loss: 1.5750, acc: 88.60%), time: 6.39s\n",
      "EPOCH 53/100 -- train: (loss: 1.5309, acc: 93.15%), test: (loss: 1.5735, acc: 88.60%), time: 6.86s\n",
      "EPOCH 54/100 -- train: (loss: 1.5303, acc: 93.23%), test: (loss: 1.5757, acc: 88.55%), time: 6.44s\n",
      "EPOCH 55/100 -- train: (loss: 1.5303, acc: 93.22%), test: (loss: 1.5735, acc: 88.81%), time: 6.47s\n",
      "EPOCH 56/100 -- train: (loss: 1.5296, acc: 93.27%), test: (loss: 1.5735, acc: 88.72%), time: 6.28s\n",
      "EPOCH 57/100 -- train: (loss: 1.5294, acc: 93.29%), test: (loss: 1.5768, acc: 88.41%), time: 6.25s\n",
      "EPOCH 58/100 -- train: (loss: 1.5286, acc: 93.37%), test: (loss: 1.5709, acc: 88.97%), time: 6.55s\n",
      "EPOCH 59/100 -- train: (loss: 1.5290, acc: 93.33%), test: (loss: 1.5718, acc: 88.91%), time: 6.65s\n",
      "EPOCH 60/100 -- train: (loss: 1.5286, acc: 93.37%), test: (loss: 1.5724, acc: 88.82%), time: 6.28s\n",
      "EPOCH 61/100 -- train: (loss: 1.5279, acc: 93.43%), test: (loss: 1.5742, acc: 88.68%), time: 6.28s\n",
      "EPOCH 62/100 -- train: (loss: 1.5272, acc: 93.52%), test: (loss: 1.5729, acc: 88.77%), time: 6.26s\n",
      "EPOCH 63/100 -- train: (loss: 1.5280, acc: 93.42%), test: (loss: 1.5751, acc: 88.54%), time: 6.41s\n",
      "EPOCH 64/100 -- train: (loss: 1.5278, acc: 93.46%), test: (loss: 1.5731, acc: 88.73%), time: 6.27s\n",
      "EPOCH 65/100 -- train: (loss: 1.5267, acc: 93.56%), test: (loss: 1.5730, acc: 88.81%), time: 6.27s\n",
      "EPOCH 66/100 -- train: (loss: 1.5267, acc: 93.60%), test: (loss: 1.5729, acc: 88.79%), time: 6.27s\n",
      "EPOCH 67/100 -- train: (loss: 1.5257, acc: 93.66%), test: (loss: 1.5721, acc: 88.97%), time: 6.69s\n",
      "EPOCH 68/100 -- train: (loss: 1.5263, acc: 93.62%), test: (loss: 1.5723, acc: 88.82%), time: 6.33s\n",
      "EPOCH 69/100 -- train: (loss: 1.5256, acc: 93.64%), test: (loss: 1.5727, acc: 88.82%), time: 6.26s\n",
      "EPOCH 70/100 -- train: (loss: 1.5254, acc: 93.69%), test: (loss: 1.5720, acc: 88.91%), time: 6.27s\n",
      "EPOCH 71/100 -- train: (loss: 1.5254, acc: 93.70%), test: (loss: 1.5714, acc: 88.98%), time: 6.27s\n",
      "EPOCH 72/100 -- train: (loss: 1.5253, acc: 93.68%), test: (loss: 1.5718, acc: 88.88%), time: 6.26s\n",
      "EPOCH 73/100 -- train: (loss: 1.5252, acc: 93.72%), test: (loss: 1.5738, acc: 88.67%), time: 6.29s\n",
      "EPOCH 74/100 -- train: (loss: 1.5248, acc: 93.75%), test: (loss: 1.5723, acc: 88.81%), time: 6.27s\n",
      "EPOCH 75/100 -- train: (loss: 1.5249, acc: 93.74%), test: (loss: 1.5733, acc: 88.75%), time: 6.37s\n",
      "EPOCH 76/100 -- train: (loss: 1.5243, acc: 93.80%), test: (loss: 1.5741, acc: 88.59%), time: 6.40s\n",
      "EPOCH 77/100 -- train: (loss: 1.5241, acc: 93.81%), test: (loss: 1.5713, acc: 88.94%), time: 6.30s\n",
      "EPOCH 78/100 -- train: (loss: 1.5241, acc: 93.83%), test: (loss: 1.5725, acc: 88.81%), time: 6.28s\n",
      "EPOCH 79/100 -- train: (loss: 1.5237, acc: 93.84%), test: (loss: 1.5733, acc: 88.71%), time: 6.30s\n",
      "EPOCH 80/100 -- train: (loss: 1.5233, acc: 93.91%), test: (loss: 1.5733, acc: 88.77%), time: 6.28s\n",
      "EPOCH 81/100 -- train: (loss: 1.5233, acc: 93.89%), test: (loss: 1.5737, acc: 88.69%), time: 6.29s\n",
      "EPOCH 82/100 -- train: (loss: 1.5229, acc: 93.92%), test: (loss: 1.5719, acc: 88.94%), time: 6.44s\n",
      "EPOCH 83/100 -- train: (loss: 1.5225, acc: 93.98%), test: (loss: 1.5732, acc: 88.84%), time: 6.28s\n"
     ]
    },
    {
     "name": "stdout",
     "output_type": "stream",
     "text": [
      "EPOCH 84/100 -- train: (loss: 1.5230, acc: 93.92%), test: (loss: 1.5733, acc: 88.81%), time: 6.30s\n",
      "EPOCH 85/100 -- train: (loss: 1.5228, acc: 93.94%), test: (loss: 1.5716, acc: 88.89%), time: 6.29s\n",
      "EPOCH 86/100 -- train: (loss: 1.5228, acc: 93.94%), test: (loss: 1.5719, acc: 88.81%), time: 6.66s\n",
      "EPOCH 87/100 -- train: (loss: 1.5219, acc: 94.02%), test: (loss: 1.5693, acc: 89.21%), time: 6.26s\n",
      "EPOCH 88/100 -- train: (loss: 1.5216, acc: 94.06%), test: (loss: 1.5700, acc: 89.09%), time: 6.26s\n",
      "EPOCH 89/100 -- train: (loss: 1.5215, acc: 94.06%), test: (loss: 1.5713, acc: 88.95%), time: 6.28s\n",
      "EPOCH 90/100 -- train: (loss: 1.5210, acc: 94.12%), test: (loss: 1.5715, acc: 88.91%), time: 6.32s\n",
      "EPOCH 91/100 -- train: (loss: 1.5207, acc: 94.16%), test: (loss: 1.5696, acc: 89.15%), time: 6.29s\n",
      "EPOCH 92/100 -- train: (loss: 1.5202, acc: 94.19%), test: (loss: 1.5725, acc: 88.82%), time: 6.47s\n",
      "EPOCH 93/100 -- train: (loss: 1.5210, acc: 94.11%), test: (loss: 1.5723, acc: 88.74%), time: 6.28s\n",
      "EPOCH 94/100 -- train: (loss: 1.5198, acc: 94.24%), test: (loss: 1.5720, acc: 88.92%), time: 6.30s\n",
      "EPOCH 95/100 -- train: (loss: 1.5208, acc: 94.14%), test: (loss: 1.5699, acc: 89.18%), time: 6.32s\n",
      "EPOCH 96/100 -- train: (loss: 1.5199, acc: 94.22%), test: (loss: 1.5703, acc: 89.00%), time: 6.26s\n",
      "EPOCH 97/100 -- train: (loss: 1.5193, acc: 94.27%), test: (loss: 1.5733, acc: 88.76%), time: 6.26s\n",
      "EPOCH 98/100 -- train: (loss: 1.5196, acc: 94.26%), test: (loss: 1.5717, acc: 88.83%), time: 6.26s\n",
      "EPOCH 99/100 -- train: (loss: 1.5190, acc: 94.31%), test: (loss: 1.5728, acc: 88.87%), time: 5.83s\n",
      "EPOCH 100/100 -- train: (loss: 1.5192, acc: 94.31%), test: (loss: 1.5714, acc: 88.96%), time: 6.36s\n"
     ]
    }
   ],
   "source": [
    "loss_fn = nn.CrossEntropyLoss()\n",
    "optimizer = torch.optim.SGD(net.parameters(), lr=0.01)\n",
    "epochs = 100\n",
    "\n",
    "train_loss_progress = []\n",
    "test_loss_progress = []\n",
    "train_acc_progress = []\n",
    "test_acc_progress = []\n",
    "\n",
    "for epoch in range(epochs):\n",
    "    epoch_start = time()\n",
    "    \n",
    "    accum_loss = []\n",
    "    accum_acc = []\n",
    "    \n",
    "    for data, labels in train_set:\n",
    "        data, labels = data.to('cuda'), labels.to('cuda')\n",
    "        optimizer.zero_grad()\n",
    "        net_output = net(data)\n",
    "        loss = loss_fn(net_output, labels)\n",
    "        loss.backward()\n",
    "        optimizer.step()\n",
    "        \n",
    "        accum_loss.append(loss.item())\n",
    "        accum_acc.append(acc(net_output, labels))\n",
    "    \n",
    "    epoch_duration = time() - epoch_start\n",
    "        \n",
    "    train_avg_loss = np.mean(accum_loss)\n",
    "    train_avg_acc = np.mean(accum_acc)\n",
    "    \n",
    "    with torch.no_grad():\n",
    "        test_data, test_labels = next(iter(test_set))\n",
    "        test_data, test_labels = test_data.to('cuda'), test_labels.to('cuda')\n",
    "        test_output = net(test_data)\n",
    "        test_loss = loss_fn(test_output, test_labels)\n",
    "        test_acc = acc(test_output, test_labels)    \n",
    "        \n",
    "    train_loss_progress.append(train_avg_loss)\n",
    "    test_loss_progress.append(test_loss.item())\n",
    "    train_acc_progress.append(train_avg_acc)\n",
    "    test_acc_progress.append(test_acc)\n",
    "    \n",
    "    print(f\"EPOCH {epoch+1}/{epochs} -- train: (loss: {train_avg_loss:.4f}, acc: {100*train_avg_acc:.2f}%), test: (loss: {test_loss:.4f}, acc: {100*test_acc:.2f}%), time: {epoch_duration:.2f}s\")"
   ]
  },
  {
   "cell_type": "code",
   "execution_count": 25,
   "id": "greatest-basic",
   "metadata": {},
   "outputs": [],
   "source": [
    "metadata_df = pd.DataFrame((train_loss_progress, test_loss_progress, train_acc_progress, test_acc_progress)).T\n",
    "metadata_df.columns = [\"train_loss\", \"test_loss\", \"train_acc\", \"test_acc\"]\n",
    "metadata_df['epoch'] = np.arange(1, epochs+1)\n",
    "metadata_df = metadata_df.set_index('epoch')"
   ]
  },
  {
   "cell_type": "code",
   "execution_count": 26,
   "id": "amino-explosion",
   "metadata": {},
   "outputs": [
    {
     "data": {
      "text/plain": [
       "<AxesSubplot:xlabel='epoch'>"
      ]
     },
     "execution_count": 26,
     "metadata": {},
     "output_type": "execute_result"
    },
    {
     "data": {
      "image/png": "[encoded data removed]",
      "text/plain": [
       "<Figure size 432x288 with 1 Axes>"
      ]
     },
     "metadata": {
      "needs_background": "light"
     },
     "output_type": "display_data"
    }
   ],
   "source": [
    "metadata_df[['train_loss', 'test_loss']].plot()"
   ]
  },
  {
   "cell_type": "code",
   "execution_count": 27,
   "id": "understanding-banana",
   "metadata": {},
   "outputs": [
    {
     "data": {
      "text/plain": [
       "<AxesSubplot:xlabel='epoch'>"
      ]
     },
     "execution_count": 27,
     "metadata": {},
     "output_type": "execute_result"
    },
    {
     "data": {
      "image/png": "[encoded data removed]",
      "text/plain": [
       "<Figure size 432x288 with 1 Axes>"
      ]
     },
     "metadata": {
      "needs_background": "light"
     },
     "output_type": "display_data"
    }
   ],
   "source": [
    "metadata_df[['train_acc', 'test_acc']].plot()"
   ]
  },
  {
   "cell_type": "code",
   "execution_count": null,
   "id": "8d5dc2ac",
   "metadata": {},
   "outputs": [],
   "source": []
  }
 ],
 "metadata": {
  "kernelspec": {
   "display_name": "Python 3 (ipykernel)",
   "language": "python",
   "name": "python3"
  },
  "language_info": {
   "codemirror_mode": {
    "name": "ipython",
    "version": 3
   },
   "file_extension": ".py",
   "mimetype": "text/x-python",
   "name": "python",
   "nbconvert_exporter": "python",
   "pygments_lexer": "ipython3",
   "version": "3.9.6"
  }
 },
 "nbformat": 4,
 "nbformat_minor": 5
}
