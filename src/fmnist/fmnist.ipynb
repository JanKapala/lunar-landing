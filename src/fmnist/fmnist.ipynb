{
 "cells": [
  {
   "cell_type": "code",
   "execution_count": 85,
   "id": "defe631c",
   "metadata": {},
   "outputs": [],
   "source": [
    "from copy import deepcopy\n",
    "from time import time\n",
    "\n",
    "import torch\n",
    "import torch.nn.functional as F\n",
    "\n",
    "from torch import nn\n",
    "from torch.utils.data import DataLoader, TensorDataset\n",
    "\n",
    "import numpy as np\n",
    "import pandas as pd\n",
    "\n",
    "from torchvision.datasets import FashionMNIST\n",
    "from torchvision import transforms"
   ]
  },
  {
   "cell_type": "code",
   "execution_count": 94,
   "id": "34b83faf",
   "metadata": {},
   "outputs": [],
   "source": [
    "def acc(net_output, labels):\n",
    "    predicted = net_output.argmax(dim=1)\n",
    "    correct = (predicted == labels).sum()\n",
    "    examples = len(labels)\n",
    "    return (correct / examples).item()\n",
    "\n",
    "\n",
    "class FMnistNet(nn.Module):\n",
    "    def __init__(self):\n",
    "        super().__init__()\n",
    "        self.fc1 = nn.Linear(784, 128)\n",
    "        self.fc2 = nn.Linear(128, 64)\n",
    "        self.fc3 = nn.Linear(64, 10)\n",
    "        \n",
    "    def forward(self, x):\n",
    "        x = x.view(-1, 28*28)\n",
    "        x = F.relu(self.fc1(x))\n",
    "        x = F.relu(self.fc2(x))\n",
    "        x = F.softmax(self.fc3(x), dim=1)\n",
    "        return x"
   ]
  },
  {
   "cell_type": "code",
   "execution_count": 95,
   "id": "e4e81b8b",
   "metadata": {},
   "outputs": [],
   "source": [
    "ds_train = FashionMNIST(\n",
    "    root=\"./data\", \n",
    "    transform=transforms.Compose([\n",
    "        transforms.ToTensor(),\n",
    "        transforms.Normalize(0, 1)\n",
    "    ]), \n",
    "    download=True, \n",
    "    train=True)\n",
    "\n",
    "ds_test = FashionMNIST(\n",
    "    root=\"./data\", \n",
    "    transform=transforms.Compose([\n",
    "        transforms.ToTensor(),\n",
    "        transforms.Normalize(0, 1)\n",
    "    ]), \n",
    "    download=True,\n",
    "    train=False)"
   ]
  },
  {
   "cell_type": "code",
   "execution_count": 96,
   "id": "0a078ad6",
   "metadata": {},
   "outputs": [],
   "source": [
    "train_set = DataLoader(ds_train, batch_size=64, shuffle=True, num_workers=4)\n",
    "test_set = DataLoader(ds_test, batch_size=len(ds_train))"
   ]
  },
  {
   "cell_type": "code",
   "execution_count": 131,
   "id": "d5a13d59",
   "metadata": {},
   "outputs": [],
   "source": [
    "net = FMnistNet()\n",
    "loss_fn = nn.CrossEntropyLoss()\n",
    "optimizer = torch.optim.Adam(net.parameters())\n",
    "\n",
    "total_epochs = 0\n",
    "train_loss_progress = []\n",
    "test_loss_progress = []\n",
    "train_acc_progress = []\n",
    "test_acc_progress = []"
   ]
  },
  {
   "cell_type": "code",
   "execution_count": 140,
   "id": "cbd01559",
   "metadata": {},
   "outputs": [
    {
     "name": "stdout",
     "output_type": "stream",
     "text": [
      "EPOCH 8/50 -- train: (loss: 1.5914, acc: 87.04%), test: (loss: 1.6034, acc: 85.77%), time: 8.17s\n",
      "EPOCH 9/50 -- train: (loss: 1.5877, acc: 87.37%), test: (loss: 1.6002, acc: 86.13%), time: 7.76s\n",
      "EPOCH 10/50 -- train: (loss: 1.5852, acc: 87.62%), test: (loss: 1.6136, acc: 84.56%), time: 7.81s\n",
      "EPOCH 11/50 -- train: (loss: 1.5842, acc: 87.70%), test: (loss: 1.6000, acc: 86.10%), time: 13.56s\n",
      "EPOCH 12/50 -- train: (loss: 1.5815, acc: 87.99%), test: (loss: 1.5897, acc: 87.19%), time: 8.37s\n",
      "EPOCH 13/50 -- train: (loss: 1.5787, acc: 88.22%), test: (loss: 1.5978, acc: 86.33%), time: 7.79s\n",
      "EPOCH 14/50 -- train: (loss: 1.5766, acc: 88.46%), test: (loss: 1.5929, acc: 86.82%), time: 7.84s\n",
      "EPOCH 15/50 -- train: (loss: 1.5747, acc: 88.62%), test: (loss: 1.6016, acc: 85.94%), time: 8.19s\n",
      "EPOCH 16/50 -- train: (loss: 1.5743, acc: 88.68%), test: (loss: 1.5888, acc: 87.17%), time: 7.91s\n",
      "EPOCH 17/50 -- train: (loss: 1.5726, acc: 88.84%), test: (loss: 1.5897, acc: 87.09%), time: 7.88s\n",
      "EPOCH 18/50 -- train: (loss: 1.5717, acc: 88.92%), test: (loss: 1.5916, acc: 86.93%), time: 7.55s\n",
      "EPOCH 19/50 -- train: (loss: 1.5701, acc: 89.06%), test: (loss: 1.5893, acc: 87.09%), time: 7.74s\n",
      "EPOCH 20/50 -- train: (loss: 1.5699, acc: 89.07%), test: (loss: 1.5864, acc: 87.44%), time: 7.62s\n",
      "EPOCH 21/50 -- train: (loss: 1.5676, acc: 89.34%), test: (loss: 1.5862, acc: 87.42%), time: 7.70s\n",
      "EPOCH 22/50 -- train: (loss: 1.5680, acc: 89.30%), test: (loss: 1.5869, acc: 87.46%), time: 7.73s\n",
      "EPOCH 23/50 -- train: (loss: 1.5676, acc: 89.35%), test: (loss: 1.5838, acc: 87.79%), time: 7.87s\n",
      "EPOCH 24/50 -- train: (loss: 1.5662, acc: 89.49%), test: (loss: 1.5897, acc: 87.08%), time: 7.76s\n",
      "EPOCH 25/50 -- train: (loss: 1.5654, acc: 89.56%), test: (loss: 1.5844, acc: 87.60%), time: 8.04s\n",
      "EPOCH 26/50 -- train: (loss: 1.5646, acc: 89.62%), test: (loss: 1.6045, acc: 85.55%), time: 8.02s\n",
      "EPOCH 27/50 -- train: (loss: 1.5640, acc: 89.72%), test: (loss: 1.5930, acc: 86.78%), time: 8.01s\n",
      "EPOCH 28/50 -- train: (loss: 1.5629, acc: 89.82%), test: (loss: 1.5939, acc: 86.67%), time: 7.86s\n",
      "EPOCH 29/50 -- train: (loss: 1.5627, acc: 89.81%), test: (loss: 1.5843, acc: 87.69%), time: 8.04s\n",
      "EPOCH 30/50 -- train: (loss: 1.5612, acc: 89.97%), test: (loss: 1.5870, acc: 87.37%), time: 7.89s\n",
      "EPOCH 31/50 -- train: (loss: 1.5628, acc: 89.83%), test: (loss: 1.5890, acc: 87.20%), time: 7.87s\n",
      "EPOCH 32/50 -- train: (loss: 1.5604, acc: 90.08%), test: (loss: 1.5798, acc: 88.08%), time: 7.97s\n",
      "EPOCH 33/50 -- train: (loss: 1.5614, acc: 89.96%), test: (loss: 1.5830, acc: 87.77%), time: 7.92s\n",
      "EPOCH 34/50 -- train: (loss: 1.5606, acc: 90.07%), test: (loss: 1.5893, acc: 87.11%), time: 8.03s\n",
      "EPOCH 35/50 -- train: (loss: 1.5609, acc: 90.02%), test: (loss: 1.5858, acc: 87.51%), time: 7.80s\n",
      "EPOCH 36/50 -- train: (loss: 1.5587, acc: 90.22%), test: (loss: 1.5931, acc: 86.81%), time: 8.04s\n",
      "EPOCH 37/50 -- train: (loss: 1.5625, acc: 89.84%), test: (loss: 1.5872, acc: 87.27%), time: 7.93s\n",
      "EPOCH 38/50 -- train: (loss: 1.5573, acc: 90.37%), test: (loss: 1.5951, acc: 86.55%), time: 8.08s\n",
      "EPOCH 39/50 -- train: (loss: 1.5586, acc: 90.23%), test: (loss: 1.5807, acc: 88.04%), time: 8.04s\n",
      "EPOCH 40/50 -- train: (loss: 1.5578, acc: 90.32%), test: (loss: 1.5849, acc: 87.61%), time: 8.04s\n",
      "EPOCH 41/50 -- train: (loss: 1.5579, acc: 90.27%), test: (loss: 1.5874, acc: 87.24%), time: 7.88s\n",
      "EPOCH 42/50 -- train: (loss: 1.5582, acc: 90.30%), test: (loss: 1.5851, acc: 87.61%), time: 8.20s\n",
      "EPOCH 43/50 -- train: (loss: 1.5568, acc: 90.43%), test: (loss: 1.5854, acc: 87.51%), time: 7.98s\n",
      "EPOCH 44/50 -- train: (loss: 1.5560, acc: 90.50%), test: (loss: 1.5815, acc: 87.92%), time: 8.28s\n",
      "EPOCH 45/50 -- train: (loss: 1.5549, acc: 90.63%), test: (loss: 1.5854, acc: 87.57%), time: 8.24s\n",
      "EPOCH 46/50 -- train: (loss: 1.5560, acc: 90.50%), test: (loss: 1.5798, acc: 88.12%), time: 8.32s\n",
      "EPOCH 47/50 -- train: (loss: 1.5555, acc: 90.55%), test: (loss: 1.5815, acc: 87.96%), time: 8.28s\n",
      "EPOCH 48/50 -- train: (loss: 1.5556, acc: 90.55%), test: (loss: 1.5842, acc: 87.63%), time: 8.24s\n",
      "EPOCH 49/50 -- train: (loss: 1.5548, acc: 90.59%), test: (loss: 1.5847, acc: 87.60%), time: 8.08s\n",
      "EPOCH 50/50 -- train: (loss: 1.5552, acc: 90.57%), test: (loss: 1.5797, acc: 88.16%), time: 8.50s\n"
     ]
    }
   ],
   "source": [
    "epochs_per_run=43\n",
    "total_epochs += epochs_per_run\n",
    "\n",
    "for epoch in range(total_epochs-epochs_per_run, total_epochs):\n",
    "    epoch_start = time()\n",
    "    \n",
    "    accum_loss = []\n",
    "    accum_acc = []\n",
    "    \n",
    "    for data, labels in train_set:\n",
    "        optimizer.zero_grad()\n",
    "        net_output = net(data)\n",
    "        loss = loss_fn(net_output, labels)\n",
    "        loss.backward()\n",
    "        optimizer.step()\n",
    "        \n",
    "        accum_loss.append(loss.item())\n",
    "        accum_acc.append(acc(net_output, labels))\n",
    "    \n",
    "    epoch_duration = time() - epoch_start\n",
    "        \n",
    "    train_avg_loss = np.mean(accum_loss)\n",
    "    train_avg_acc = np.mean(accum_acc)\n",
    "    \n",
    "    with torch.no_grad():\n",
    "        test_data, test_labels = next(iter(test_set))\n",
    "        test_output = net(test_data)\n",
    "        test_loss = loss_fn(test_output, test_labels)\n",
    "        test_acc = acc(test_output, test_labels)    \n",
    "        \n",
    "    train_loss_progress.append(train_avg_loss)\n",
    "    test_loss_progress.append(test_loss.item())\n",
    "    train_acc_progress.append(train_avg_acc)\n",
    "    test_acc_progress.append(test_acc)\n",
    "    \n",
    "    print(f\"EPOCH {epoch+1}/{total_epochs} -- train: (loss: {train_avg_loss:.4f}, acc: {100*train_avg_acc:.2f}%), test: (loss: {test_loss:.4f}, acc: {100*test_acc:.2f}%), time: {epoch_duration:.2f}s\")"
   ]
  },
  {
   "cell_type": "code",
   "execution_count": 141,
   "id": "07b4ac4f",
   "metadata": {},
   "outputs": [],
   "source": [
    "metadata_df = pd.DataFrame((train_loss_progress, test_loss_progress, train_acc_progress, test_acc_progress)).T\n",
    "metadata_df.columns = [\"train_loss\", \"test_loss\", \"train_acc\", \"test_acc\"]\n",
    "metadata_df['epoch'] = np.arange(1, total_epochs+1)\n",
    "metadata_df = metadata_df.set_index('epoch')"
   ]
  },
  {
   "cell_type": "code",
   "execution_count": 142,
   "id": "c4447eed",
   "metadata": {},
   "outputs": [
    {
     "data": {
      "text/plain": [
       "<AxesSubplot:xlabel='epoch'>"
      ]
     },
     "execution_count": 142,
     "metadata": {},
     "output_type": "execute_result"
    },
    {
     "data": {
      "image/png": "[encoded data removed]",
      "text/plain": [
       "<Figure size 432x288 with 1 Axes>"
      ]
     },
     "metadata": {
      "needs_background": "light"
     },
     "output_type": "display_data"
    }
   ],
   "source": [
    "metadata_df[['train_loss', 'test_loss']].plot(kind='line')"
   ]
  },
  {
   "cell_type": "code",
   "execution_count": 143,
   "id": "dc8cab98",
   "metadata": {},
   "outputs": [
    {
     "data": {
      "text/plain": [
       "<AxesSubplot:xlabel='epoch'>"
      ]
     },
     "execution_count": 143,
     "metadata": {},
     "output_type": "execute_result"
    },
    {
     "data": {
      "image/png": "[encoded data removed]",
      "text/plain": [
       "<Figure size 432x288 with 1 Axes>"
      ]
     },
     "metadata": {
      "needs_background": "light"
     },
     "output_type": "display_data"
    }
   ],
   "source": [
    "metadata_df[['train_acc', 'test_acc']].plot()"
   ]
  },
  {
   "cell_type": "code",
   "execution_count": null,
   "id": "fa4f6139",
   "metadata": {},
   "outputs": [],
   "source": []
  }
 ],
 "metadata": {
  "kernelspec": {
   "display_name": "Python 3",
   "language": "python",
   "name": "python3"
  },
  "language_info": {
   "codemirror_mode": {
    "name": "ipython",
    "version": 3
   },
   "file_extension": ".py",
   "mimetype": "text/x-python",
   "name": "python",
   "nbconvert_exporter": "python",
   "pygments_lexer": "ipython3",
   "version": "3.7.10"
  }
 },
 "nbformat": 4,
 "nbformat_minor": 5
}
