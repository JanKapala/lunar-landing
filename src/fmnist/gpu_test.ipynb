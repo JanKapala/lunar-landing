{
 "cells": [
  {
   "cell_type": "code",
   "execution_count": 12,
   "id": "18415713",
   "metadata": {},
   "outputs": [],
   "source": [
    "import torch "
   ]
  },
  {
   "cell_type": "code",
   "execution_count": 13,
   "id": "9af36704",
   "metadata": {},
   "outputs": [
    {
     "data": {
      "text/plain": [
       "'NVIDIA GeForce RTX 2060'"
      ]
     },
     "execution_count": 13,
     "metadata": {},
     "output_type": "execute_result"
    }
   ],
   "source": [
    "torch.cuda.get_device_name(0)"
   ]
  },
  {
   "cell_type": "code",
   "execution_count": 14,
   "id": "8dafc9a8",
   "metadata": {},
   "outputs": [
    {
     "data": {
      "text/plain": [
       "400556032"
      ]
     },
     "execution_count": 14,
     "metadata": {},
     "output_type": "execute_result"
    }
   ],
   "source": [
    "torch.cuda.memory_allocated(0)"
   ]
  },
  {
   "cell_type": "code",
   "execution_count": 15,
   "id": "61e86319",
   "metadata": {},
   "outputs": [],
   "source": [
    "N = int(10e3)"
   ]
  },
  {
   "cell_type": "code",
   "execution_count": 31,
   "id": "dec0d221",
   "metadata": {},
   "outputs": [],
   "source": [
    "m1_local = torch.randn(size=(N, N))\n",
    "m1_cuda = m1_local.to('cuda')\n",
    "\n",
    "# %time res_local = m1_local @ m1_local\n",
    "\n",
    "# %time res_cuda = m1_cuda @ m1_cuda"
   ]
  },
  {
   "cell_type": "code",
   "execution_count": 28,
   "id": "3186a4a3",
   "metadata": {},
   "outputs": [
    {
     "ename": "NameError",
     "evalue": "name 'm1_cuda' is not defined",
     "output_type": "error",
     "traceback": [
      "\u001b[1;31m---------------------------------------------------------------------------\u001b[0m",
      "\u001b[1;31mNameError\u001b[0m                                 Traceback (most recent call last)",
      "\u001b[1;32m~\\AppData\\Local\\Temp/ipykernel_10364/3231579948.py\u001b[0m in \u001b[0;36m<module>\u001b[1;34m\u001b[0m\n\u001b[1;32m----> 1\u001b[1;33m \u001b[1;32mdel\u001b[0m \u001b[0mm1_cuda\u001b[0m\u001b[1;33m\u001b[0m\u001b[1;33m\u001b[0m\u001b[0m\n\u001b[0m",
      "\u001b[1;31mNameError\u001b[0m: name 'm1_cuda' is not defined"
     ]
    }
   ],
   "source": [
    "del m1_cuda"
   ]
  },
  {
   "cell_type": "code",
   "execution_count": 32,
   "id": "4658f143",
   "metadata": {},
   "outputs": [
    {
     "data": {
      "text/plain": [
       "801112064"
      ]
     },
     "execution_count": 32,
     "metadata": {},
     "output_type": "execute_result"
    }
   ],
   "source": [
    "torch.cuda.memory_allocated(0)"
   ]
  },
  {
   "cell_type": "code",
   "execution_count": 33,
   "id": "638d5d83",
   "metadata": {},
   "outputs": [
    {
     "data": {
      "text/plain": [
       "801112064"
      ]
     },
     "execution_count": 33,
     "metadata": {},
     "output_type": "execute_result"
    }
   ],
   "source": [
    "torch.cuda.memory_reserved(0)"
   ]
  },
  {
   "cell_type": "code",
   "execution_count": 34,
   "id": "490ae5c6",
   "metadata": {},
   "outputs": [
    {
     "data": {
      "text/plain": [
       "[{'device': 0,\n",
       "  'address': 30142365696,\n",
       "  'total_size': 400556032,\n",
       "  'allocated_size': 400556032,\n",
       "  'active_size': 400556032,\n",
       "  'segment_type': 'large',\n",
       "  'blocks': [{'size': 400556032, 'state': 'active_allocated'}]},\n",
       " {'device': 0,\n",
       "  'address': 31058821120,\n",
       "  'total_size': 400556032,\n",
       "  'allocated_size': 400556032,\n",
       "  'active_size': 400556032,\n",
       "  'segment_type': 'large',\n",
       "  'blocks': [{'size': 400556032, 'state': 'active_allocated'}]}]"
      ]
     },
     "execution_count": 34,
     "metadata": {},
     "output_type": "execute_result"
    }
   ],
   "source": [
    "torch.cuda.memory_snapshot()"
   ]
  },
  {
   "cell_type": "code",
   "execution_count": 35,
   "id": "30d1bc60",
   "metadata": {
    "scrolled": true
   },
   "outputs": [
    {
     "ename": "NameError",
     "evalue": "name 'res_cuda' is not defined",
     "output_type": "error",
     "traceback": [
      "\u001b[1;31m---------------------------------------------------------------------------\u001b[0m",
      "\u001b[1;31mNameError\u001b[0m                                 Traceback (most recent call last)",
      "\u001b[1;32m<timed eval>\u001b[0m in \u001b[0;36m<module>\u001b[1;34m\u001b[0m\n",
      "\u001b[1;31mNameError\u001b[0m: name 'res_cuda' is not defined"
     ]
    }
   ],
   "source": [
    "%time res_cuda.allclose(res_local.to('cuda'), atol=10e-3)"
   ]
  },
  {
   "cell_type": "code",
   "execution_count": 44,
   "id": "8d24f688",
   "metadata": {},
   "outputs": [
    {
     "data": {
      "text/plain": [
       "4001366016"
      ]
     },
     "execution_count": 44,
     "metadata": {},
     "output_type": "execute_result"
    }
   ],
   "source": []
  },
  {
   "cell_type": "code",
   "execution_count": 45,
   "id": "b147ec85",
   "metadata": {},
   "outputs": [
    {
     "data": {
      "text/plain": [
       "6442450944"
      ]
     },
     "execution_count": 45,
     "metadata": {},
     "output_type": "execute_result"
    }
   ],
   "source": [
    "torch.cuda.get_device_properties(0).total_memory"
   ]
  },
  {
   "cell_type": "code",
   "execution_count": 40,
   "id": "0ade3caa",
   "metadata": {},
   "outputs": [
    {
     "data": {
      "text/plain": [
       "tensor([[-0.0171, -1.6138, -1.0603,  ...,  0.2674, -0.3403, -0.6277],\n",
       "        [ 2.4829,  0.1292,  0.1355,  ...,  0.8314, -1.1122, -0.3291],\n",
       "        [ 1.6435,  0.3862,  0.5701,  ..., -0.3100,  0.5677,  0.0178],\n",
       "        ...,\n",
       "        [-0.6503, -0.3512,  0.2889,  ..., -0.8917,  0.3977,  1.0245],\n",
       "        [-0.0179,  1.0038, -0.4327,  ..., -0.5744,  0.2334, -3.1339],\n",
       "        [ 0.2224,  0.1330,  1.2964,  ...,  1.1794,  1.4696,  1.7320]])"
      ]
     },
     "execution_count": 40,
     "metadata": {},
     "output_type": "execute_result"
    }
   ],
   "source": [
    "m1_cuda.to('cpu')"
   ]
  },
  {
   "cell_type": "code",
   "execution_count": 43,
   "id": "c7413eca",
   "metadata": {},
   "outputs": [],
   "source": [
    "del m1_cuda"
   ]
  },
  {
   "cell_type": "code",
   "execution_count": null,
   "id": "6b669db3",
   "metadata": {},
   "outputs": [],
   "source": []
  }
 ],
 "metadata": {
  "kernelspec": {
   "display_name": "Python 3 (ipykernel)",
   "language": "python",
   "name": "python3"
  },
  "language_info": {
   "codemirror_mode": {
    "name": "ipython",
    "version": 3
   },
   "file_extension": ".py",
   "mimetype": "text/x-python",
   "name": "python",
   "nbconvert_exporter": "python",
   "pygments_lexer": "ipython3",
   "version": "3.9.6"
  }
 },
 "nbformat": 4,
 "nbformat_minor": 5
}
