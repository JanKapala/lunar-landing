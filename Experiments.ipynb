{
 "cells": [
  {
   "cell_type": "code",
   "execution_count": 1,
   "metadata": {},
   "outputs": [],
   "source": [
    "%load_ext autoreload"
   ]
  },
  {
   "cell_type": "code",
   "execution_count": 2,
   "metadata": {},
   "outputs": [],
   "source": [
    "%autoreload\n",
    "import torch\n",
    "import numpy as np\n",
    "\n",
    "import os\n",
    "from definitions import LOG_DIR, SAVED_AGENTS\n",
    "from torch.utils.tensorboard import SummaryWriter\n",
    "\n",
    "import gym\n",
    "from gym.logger import ERROR\n",
    "\n",
    "from src.agent import Agent\n",
    "from src.simulation import simulate\n",
    "from src.ornstein_uhlenbeck_process import OrnsteinUhlenbeckProcess\n",
    "\n",
    "from matplotlib import pyplot as plt\n",
    "from src.actor import Actor\n",
    "import copy"
   ]
  },
  {
   "cell_type": "code",
   "execution_count": 3,
   "metadata": {},
   "outputs": [],
   "source": [
    "writer = SummaryWriter(LOG_DIR)"
   ]
  },
  {
   "cell_type": "code",
   "execution_count": 4,
   "metadata": {},
   "outputs": [],
   "source": [
    "gym.logger.set_level(ERROR)"
   ]
  },
  {
   "cell_type": "code",
   "execution_count": 5,
   "metadata": {},
   "outputs": [],
   "source": [
    "env = gym.make(\"LunarLanderContinuous-v2\")\n",
    "# env = gym.make(\"BipedalWalker-v3\")\n",
    "agent = Agent(\n",
    "    device=\"cuda\",\n",
    "    state_dim=env.observation_space.shape[0],\n",
    "    action_dim=env.action_space.shape[0],\n",
    "    actor_layer_sizes=[256, 128],\n",
    "    critic_layer_sizes=[256, 128],\n",
    "    replay_buffer_max_size=1e6,\n",
    "    batch_size=128,\n",
    "    learning_freq=1,\n",
    "    γ=0.995,\n",
    "    μ_θ_α=1e-4,\n",
    "    Q_Φ_α=1e-3,\n",
    "    ρ=0.95,\n",
    "    noise_sigma=0.2,\n",
    "    train_after=64,\n",
    "    exploration=True,\n",
    "    writer=writer,\n",
    "    train_steps_per_update=1,\n",
    "    action_high=env.action_space.high\n",
    ")"
   ]
  },
  {
   "cell_type": "code",
   "execution_count": 6,
   "metadata": {},
   "outputs": [],
   "source": [
    "# agent = agent.to(\"cpu\")"
   ]
  },
  {
   "cell_type": "code",
   "execution_count": 7,
   "metadata": {},
   "outputs": [],
   "source": [
    "# env.close()"
   ]
  },
  {
   "cell_type": "code",
   "execution_count": 8,
   "metadata": {},
   "outputs": [
    {
     "data": {
      "application/vnd.jupyter.widget-view+json": {
       "model_id": "ab3dea4a040c4abcaa67a267cfcc0da6",
       "version_major": 2,
       "version_minor": 0
      },
      "text/plain": [
       "HBox(children=(FloatProgress(value=0.0, max=40.0), HTML(value='')))"
      ]
     },
     "metadata": {},
     "output_type": "display_data"
    },
    {
     "name": "stdout",
     "output_type": "stream",
     "text": [
      "\n"
     ]
    }
   ],
   "source": [
    "# Training with exploration\n",
    "agent.exploration = True\n",
    "simulate(\n",
    "    env,\n",
    "    agent,\n",
    "    episodes=400,\n",
    "    max_episode_steps=1000,\n",
    "    render=False\n",
    ")"
   ]
  },
  {
   "cell_type": "code",
   "execution_count": 9,
   "metadata": {},
   "outputs": [
    {
     "data": {
      "application/vnd.jupyter.widget-view+json": {
       "model_id": "922278a429b54f44a807b3e47fc2ec3a",
       "version_major": 2,
       "version_minor": 0
      },
      "text/plain": [
       "HBox(children=(FloatProgress(value=0.0, max=10.0), HTML(value='')))"
      ]
     },
     "metadata": {},
     "output_type": "display_data"
    },
    {
     "name": "stdout",
     "output_type": "stream",
     "text": [
      "\n"
     ]
    }
   ],
   "source": [
    "# Mastery achieving \n",
    "agent.exploration = False\n",
    "simulate(env, agent, episodes=100, render=False)"
   ]
  },
  {
   "cell_type": "code",
   "execution_count": 10,
   "metadata": {},
   "outputs": [
    {
     "data": {
      "application/vnd.jupyter.widget-view+json": {
       "model_id": "abdcdbd333014b948c400a1820399fff",
       "version_major": 2,
       "version_minor": 0
      },
      "text/plain": [
       "HBox(children=(FloatProgress(value=0.0, max=10.0), HTML(value='')))"
      ]
     },
     "metadata": {},
     "output_type": "display_data"
    },
    {
     "name": "stdout",
     "output_type": "stream",
     "text": [
      "\n"
     ]
    }
   ],
   "source": [
    "# Demo\n",
    "agent.exploration = False\n",
    "simulate(env, agent, episodes=10, render=True)"
   ]
  },
  {
   "cell_type": "code",
   "execution_count": 11,
   "metadata": {},
   "outputs": [
    {
     "name": "stdout",
     "output_type": "stream",
     "text": [
      "Agent saved successfully! (agent.writer object can't be saved so this field has been set to `None`)\n"
     ]
    }
   ],
   "source": [
    "# Saving and loading\n",
    "agent_name = \"agent007\"\n",
    "agent_path = os.path.join(SAVED_AGENTS, agent_name)\n",
    "agent_path\n",
    "\n",
    "agent.save(agent_path)\n",
    "\n",
    "loaded_agent = Agent.load(agent_path)"
   ]
  }
 ],
 "metadata": {
  "kernelspec": {
   "display_name": "Python 3",
   "language": "python",
   "name": "python3"
  },
  "language_info": {
   "codemirror_mode": {
    "name": "ipython",
    "version": 3
   },
   "file_extension": ".py",
   "mimetype": "text/x-python",
   "name": "python",
   "nbconvert_exporter": "python",
   "pygments_lexer": "ipython3",
   "version": "3.7.10"
  }
 },
 "nbformat": 4,
 "nbformat_minor": 4
}
