{
 "cells": [
  {
   "cell_type": "code",
   "execution_count": 1,
   "metadata": {},
   "outputs": [],
   "source": [
    "import torch\n",
    "import numpy as np\n",
    "\n",
    "import os\n",
    "from definitions import LOG_DIR\n",
    "from torch.utils.tensorboard import SummaryWriter\n",
    "\n",
    "import gym\n",
    "from gym.logger import ERROR\n",
    "\n",
    "from src.agent import Agent\n",
    "from src.simulation import simulate\n",
    "from src.ornstein_uhlenbeck_process import OrnsteinUhlenbeckProcess\n",
    "\n",
    "from matplotlib import pyplot as plt\n",
    "from src.actor import Actor\n",
    "import copy"
   ]
  },
  {
   "cell_type": "code",
   "execution_count": 11,
   "metadata": {},
   "outputs": [],
   "source": [
    "from torch.nn import Identity"
   ]
  },
  {
   "cell_type": "code",
   "execution_count": 12,
   "metadata": {},
   "outputs": [],
   "source": [
    "idtt = Identity()"
   ]
  },
  {
   "cell_type": "code",
   "execution_count": 14,
   "metadata": {},
   "outputs": [
    {
     "data": {
      "text/plain": [
       "tensor([1., 2., 3.])"
      ]
     },
     "execution_count": 14,
     "metadata": {},
     "output_type": "execute_result"
    }
   ],
   "source": [
    "idtt(torch.Tensor([1.0,2.0,3.0]))"
   ]
  },
  {
   "cell_type": "code",
   "execution_count": 2,
   "metadata": {},
   "outputs": [],
   "source": [
    "writer = SummaryWriter(LOG_DIR)"
   ]
  },
  {
   "cell_type": "code",
   "execution_count": 3,
   "metadata": {},
   "outputs": [],
   "source": [
    "gym.logger.set_level(ERROR)"
   ]
  },
  {
   "cell_type": "code",
   "execution_count": 4,
   "metadata": {},
   "outputs": [],
   "source": [
    "env = gym.make(\"LunarLanderContinuous-v2\")\n",
    "agent = Agent(\n",
    "    device=\"cuda\",\n",
    "    state_dim=env.observation_space.shape[0],\n",
    "    action_dim=env.action_space.shape[0],\n",
    "    actor_layer_sizes=[256, 128],\n",
    "    critic_layer_sizes=[256, 128],\n",
    "    replay_buffer_max_size=1e6,\n",
    "    batch_size=128,\n",
    "    learning_freq=1,\n",
    "    γ=995,\n",
    "    μ_θ_α=1,\n",
    "    Q_Φ_α=1,\n",
    "    ρ=0.99,\n",
    "    noise_sigma=0.2,\n",
    "    train_after=64,\n",
    "    exploration=True,\n",
    "    writer=writer,\n",
    "    train_steps_per_update=1\n",
    ")"
   ]
  },
  {
   "cell_type": "code",
   "execution_count": 10,
   "metadata": {},
   "outputs": [],
   "source": [
    "# env.close()"
   ]
  },
  {
   "cell_type": "code",
   "execution_count": 6,
   "metadata": {},
   "outputs": [],
   "source": [
    "# agent.exploration = False"
   ]
  },
  {
   "cell_type": "code",
   "execution_count": null,
   "metadata": {},
   "outputs": [
    {
     "data": {
      "application/vnd.jupyter.widget-view+json": {
       "model_id": "7115bf5cfa53407ea848ff30832fb3c7",
       "version_major": 2,
       "version_minor": 0
      },
      "text/plain": [
       "HBox(children=(FloatProgress(value=0.0, max=400.0), HTML(value='')))"
      ]
     },
     "metadata": {},
     "output_type": "display_data"
    }
   ],
   "source": [
    "simulate(env, agent, episodes=400, max_episode_steps=1000, render=False)"
   ]
  },
  {
   "cell_type": "code",
   "execution_count": null,
   "metadata": {},
   "outputs": [],
   "source": [
    "simulate(env, agent, episodes=10, render=True)"
   ]
  },
  {
   "cell_type": "code",
   "execution_count": 7,
   "metadata": {},
   "outputs": [],
   "source": [
    "from time import sleep"
   ]
  },
  {
   "cell_type": "code",
   "execution_count": 9,
   "metadata": {},
   "outputs": [
    {
     "name": "stdout",
     "output_type": "stream",
     "text": [
      "1.4929950276783472\n",
      "1.4929950276783472\n",
      "1.3697254556103076\n",
      "1.3697254556103076\n",
      "0.320047507098991\n",
      "0.320047507098991\n",
      "-0.2686203063250059\n",
      "-0.2686203063250059\n",
      "-0.8513795975242396\n",
      "-0.8513795975242396\n",
      "-1.4479282862207004\n",
      "-1.4479282862207004\n",
      "-1.9097230248997425\n",
      "-1.9097230248997425\n",
      "-1.683195996247548\n",
      "-1.683195996247548\n",
      "-1.9503090031899717\n",
      "-1.9503090031899717\n",
      "-2.145569634611377\n",
      "-2.145569634611377\n",
      "-2.2807211012022606\n",
      "-2.2807211012022606\n",
      "-2.3690309462382686\n",
      "-2.3690309462382686\n",
      "-2.422188066919432\n",
      "-2.422188066919432\n",
      "-2.44927832239631\n",
      "-2.44927832239631\n",
      "-2.457135920941795\n",
      "-2.457135920941795\n",
      "0.1126060690153679\n",
      "0.1126060690153679\n",
      "-1.6806659445185619\n",
      "-1.6806659445185619\n",
      "-1.5828598958823705\n",
      "-1.5828598958823705\n",
      "-1.3761313336406955\n",
      "-1.3761313336406955\n",
      "-3.119375101385907\n",
      "-3.119375101385907\n",
      "-3.4426923813383143\n",
      "-3.4426923813383143\n",
      "-1.8452666072979524\n",
      "-1.8452666072979524\n",
      "-2.902941409404548\n",
      "-2.902941409404548\n",
      "-2.8832347647845324\n",
      "-2.8832347647845324\n",
      "-2.9279795982195083\n",
      "-2.9279795982195083\n",
      "-2.8246528386603984\n",
      "-2.8246528386603984\n",
      "-2.790126664321093\n",
      "-2.790126664321093\n",
      "-2.7521844669760753\n",
      "-2.7521844669760753\n",
      "-2.711465495091403\n",
      "-2.711465495091403\n",
      "-2.6683983314266015\n",
      "-2.6683983314266015\n",
      "-1.2503355808915728\n",
      "-1.2503355808915728\n",
      "-1.2614966981235454\n",
      "-1.2614966981235454\n",
      "-1.1468936602832742\n",
      "-1.1468936602832742\n",
      "-1.3402628008841873\n",
      "-1.3402628008841873\n",
      "-2.5390982560759596\n",
      "-2.5390982560759596\n",
      "-0.5579613359369489\n",
      "-0.5579613359369489\n",
      "-1.2263236161967768\n",
      "-1.2263236161967768\n",
      "-0.45747972383524027\n",
      "-0.45747972383524027\n",
      "-1.8139515358618723\n",
      "-1.8139515358618723\n",
      "-0.9406551159975891\n",
      "-0.9406551159975891\n",
      "0.838720500222388\n",
      "0.838720500222388\n",
      "-0.5344564801534147\n",
      "-0.5344564801534147\n",
      "-0.2206005144755295\n",
      "-0.2206005144755295\n",
      "-1.7144639313901848\n",
      "-1.7144639313901848\n",
      "-1.7795354949300985\n",
      "-1.7795354949300985\n",
      "-1.453303902185081\n",
      "-1.453303902185081\n",
      "-1.4417417034950835\n",
      "-1.4417417034950835\n",
      "-1.8713332079447014\n",
      "-1.8713332079447014\n",
      "-2.41202796027693\n",
      "-2.41202796027693\n",
      "-1.5326986327041197\n",
      "-1.5326986327041197\n",
      "-1.9474090060867923\n",
      "-1.9474090060867923\n",
      "-2.417111396073119\n"
     ]
    },
    {
     "ename": "KeyboardInterrupt",
     "evalue": "",
     "output_type": "error",
     "traceback": [
      "\u001b[0;31m---------------------------------------------------------------------------\u001b[0m",
      "\u001b[0;31mKeyboardInterrupt\u001b[0m                         Traceback (most recent call last)",
      "\u001b[0;32m<ipython-input-9-d036abcb0309>\u001b[0m in \u001b[0;36m<module>\u001b[0;34m\u001b[0m\n\u001b[1;32m      7\u001b[0m         \u001b[0mS_prim\u001b[0m\u001b[0;34m,\u001b[0m \u001b[0mR\u001b[0m\u001b[0;34m,\u001b[0m \u001b[0md\u001b[0m\u001b[0;34m,\u001b[0m \u001b[0m_\u001b[0m \u001b[0;34m=\u001b[0m \u001b[0menv\u001b[0m\u001b[0;34m.\u001b[0m\u001b[0mstep\u001b[0m\u001b[0;34m(\u001b[0m\u001b[0mA\u001b[0m\u001b[0;34m)\u001b[0m\u001b[0;34m\u001b[0m\u001b[0;34m\u001b[0m\u001b[0m\n\u001b[1;32m      8\u001b[0m         \u001b[0mprint\u001b[0m\u001b[0;34m(\u001b[0m\u001b[0mR\u001b[0m\u001b[0;34m)\u001b[0m\u001b[0;34m\u001b[0m\u001b[0;34m\u001b[0m\u001b[0m\n\u001b[0;32m----> 9\u001b[0;31m         \u001b[0msleep\u001b[0m\u001b[0;34m(\u001b[0m\u001b[0;36m0.5\u001b[0m\u001b[0;34m)\u001b[0m\u001b[0;34m\u001b[0m\u001b[0;34m\u001b[0m\u001b[0m\n\u001b[0m\u001b[1;32m     10\u001b[0m         \u001b[0magent\u001b[0m\u001b[0;34m.\u001b[0m\u001b[0mobserve\u001b[0m\u001b[0;34m(\u001b[0m\u001b[0mR\u001b[0m\u001b[0;34m,\u001b[0m \u001b[0mS_prim\u001b[0m\u001b[0;34m,\u001b[0m \u001b[0md\u001b[0m\u001b[0;34m)\u001b[0m\u001b[0;34m\u001b[0m\u001b[0;34m\u001b[0m\u001b[0m\n\u001b[1;32m     11\u001b[0m         \u001b[0mS\u001b[0m \u001b[0;34m=\u001b[0m \u001b[0mS_prim\u001b[0m\u001b[0;34m\u001b[0m\u001b[0;34m\u001b[0m\u001b[0m\n",
      "\u001b[0;31mKeyboardInterrupt\u001b[0m: "
     ]
    }
   ],
   "source": [
    "episodes = 1\n",
    "for i in range(episodes):\n",
    "    S = env.reset()\n",
    "    while True:\n",
    "        env.render()\n",
    "        A = agent.act(S)\n",
    "        S_prim, R, d, _ = env.step(A)\n",
    "        print(R)\n",
    "        sleep(0.5)\n",
    "        agent.observe(R, S_prim, d)\n",
    "        S = S_prim\n",
    "        if d:\n",
    "            break\n",
    "env.close()"
   ]
  }
 ],
 "metadata": {
  "kernelspec": {
   "display_name": "Python 3",
   "language": "python",
   "name": "python3"
  },
  "language_info": {
   "codemirror_mode": {
    "name": "ipython",
    "version": 3
   },
   "file_extension": ".py",
   "mimetype": "text/x-python",
   "name": "python",
   "nbconvert_exporter": "python",
   "pygments_lexer": "ipython3",
   "version": "3.7.10"
  }
 },
 "nbformat": 4,
 "nbformat_minor": 4
}
